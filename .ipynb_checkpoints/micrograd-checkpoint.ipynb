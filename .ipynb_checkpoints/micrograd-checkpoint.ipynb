{
 "cells": [
  {
   "cell_type": "code",
   "execution_count": 7,
   "id": "a3edf0e6-9e61-4cc0-8d90-98bebd79bc25",
   "metadata": {},
   "outputs": [],
   "source": [
    ":dep plotters = { version = \"^0.3.5\", default_features = false, features = [\"evcxr\", \"all_series\", \"all_elements\"] }\n",
    "extern crate plotters;\n",
    "use plotters::prelude::*;"
   ]
  },
  {
   "cell_type": "code",
   "execution_count": 8,
   "id": "53f12a0c-91ef-4b18-8b8b-e8e25376f35f",
   "metadata": {},
   "outputs": [],
   "source": [
    "fn f(x: f32) -> f32 {\n",
    "    3.0 * x.powi(2) - 4.0 * x + 5.0\n",
    "}"
   ]
  },
  {
   "cell_type": "code",
   "execution_count": 33,
   "id": "f5772322-1bd2-496c-88b2-138c62ff320e",
   "metadata": {},
   "outputs": [
    {
     "data": {
      "text/plain": [
       "12.0"
      ]
     },
     "execution_count": 33,
     "metadata": {},
     "output_type": "execute_result"
    }
   ],
   "source": [
    "f(-1.0)"
   ]
  },
  {
   "cell_type": "code",
   "execution_count": null,
   "id": "acc48c9a-0cba-44cc-a673-b7b54b33f829",
   "metadata": {},
   "outputs": [],
   "source": []
  }
 ],
 "metadata": {
  "kernelspec": {
   "display_name": "Rust",
   "language": "rust",
   "name": "rust"
  },
  "language_info": {
   "codemirror_mode": "rust",
   "file_extension": ".rs",
   "mimetype": "text/rust",
   "name": "Rust",
   "pygment_lexer": "rust",
   "version": ""
  }
 },
 "nbformat": 4,
 "nbformat_minor": 5
}
